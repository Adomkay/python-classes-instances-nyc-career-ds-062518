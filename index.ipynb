{
 "cells": [
  {
   "cell_type": "markdown",
   "metadata": {},
   "source": [
    "# Classes and Instances"
   ]
  },
  {
   "cell_type": "markdown",
   "metadata": {},
   "source": [
    "## Objectives"
   ]
  },
  {
   "cell_type": "markdown",
   "metadata": {},
   "source": [
    "* Describe a class and how it creates objects\n",
    "* Describe an instance object\n",
    "* Create an instance of class"
   ]
  },
  {
   "cell_type": "markdown",
   "metadata": {},
   "source": [
    "## Defining a Class"
   ]
  },
  {
   "cell_type": "markdown",
   "metadata": {},
   "source": [
    "We decided to see how our data science skills can be applied to transporation, and decided to start a ride share business called *fuber*.  \n",
    "\n",
    "Notice that if we want to describe a *fuber* ride, we would generally ask the same questions of each ride.  Who is the driver, the passenger, the origin and destination, and price.  We want a way to bundle up information regarding a particular ride to provide a degree of organization.\n",
    "\n",
    "How can we use Python to help make this process easier? That is where a Python `Class` comes in. \n",
    "\n",
    "> A **class** is => *__ add definition here __* can be thought of as the blueprint that defines how to build an object."
   ]
  },
  {
   "cell_type": "code",
   "execution_count": 1,
   "metadata": {
    "collapsed": true
   },
   "outputs": [],
   "source": [
    "class Ride:\n",
    "     pass"
   ]
  },
  {
   "cell_type": "markdown",
   "metadata": {},
   "source": [
    "Great we just declared our first class.  To declare class we write the class keyword..."
   ]
  },
  {
   "cell_type": "markdown",
   "metadata": {},
   "source": [
    "### Instantiating a class"
   ]
  },
  {
   "cell_type": "code",
   "execution_count": 2,
   "metadata": {},
   "outputs": [
    {
     "data": {
      "text/plain": [
       "<__main__.Ride at 0x109da5710>"
      ]
     },
     "execution_count": 2,
     "metadata": {},
     "output_type": "execute_result"
    }
   ],
   "source": [
    "Ride()"
   ]
  },
  {
   "cell_type": "markdown",
   "metadata": {},
   "source": [
    "> We use the keyword `class` to define a Python class, and as we have already learned with functions, Python classes are closed with whitespace. This means that everything that is in the class is indented. To end the class, we simply stop indenting."
   ]
  },
  {
   "cell_type": "markdown",
   "metadata": {},
   "source": [
    "** => Introduce this one at a time, first show the ability to create a class, then to add methods to it, and in turn reveal the different features of a class**"
   ]
  },
  {
   "cell_type": "markdown",
   "metadata": {},
   "source": [
    " A Python class contains both the blueprints for creating new objects as well as the ability to create those objects. When we **initialize**, or make a new instance of a class, we are essentially pressing a button on an assembly line that instantly pops out a new instance object. For example, if we were dealing with a `Car` class, we would get a brand new car from the assembly line, which produces a variety of the same model car.\n",
    "\n",
    "=> ** Then why not use a car example for the class?** "
   ]
  },
  {
   "cell_type": "markdown",
   "metadata": {},
   "source": [
    " > **Note:** Python's convention is that all classes should follow the UpperCaseCamelCase convention. That is the class should begin with a capital and all other words in the name should also be capitalized. This is otherwise referred to as CamelCase."
   ]
  },
  {
   "cell_type": "code",
   "execution_count": null,
   "metadata": {
    "collapsed": true
   },
   "outputs": [],
   "source": [
    "first_ride = Ride()\n",
    "print(first_ride)"
   ]
  },
  {
   "cell_type": "markdown",
   "metadata": {},
   "source": [
    "Okay, we ***instantiated*** our first ride! We did this by invoking, or calling the Ride class. We invoke a class the same way we do with functions, by adding the `()` to the end of the class name, (i.e. `Ride()`)."
   ]
  },
  {
   "cell_type": "markdown",
   "metadata": {},
   "source": [
    "**Instantiate** means to bring a new object to life (off the assembly line). We instantiated a new ride when we invoked our class, `Ride()`, which made a new ride in our rideshare program.\n",
    "\n",
    "Each individual object produced from a class is known as an **instance** or instance object. Our variable, `first_ride`, points to an `instance` of the ride class. We can be sure it is an instance of the Ride class by looking at the object we created. Above we printed `first_ride`, and we can see below that it says it is a `Ride object`. So, we know which class it comes from, the `Ride` class, and we know it is an instance since it says it is an `object`. \n",
    "\n",
    "We can even see this more clearly by printing both the class and an instance of that class:"
   ]
  },
  {
   "cell_type": "code",
   "execution_count": null,
   "metadata": {
    "collapsed": true,
    "scrolled": true
   },
   "outputs": [],
   "source": [
    "print(Ride)\n",
    "print(first_ride)"
   ]
  },
  {
   "cell_type": "markdown",
   "metadata": {},
   "source": [
    "Great, now let's dive a little deeper into instances. We made one already, let's make a couple more and compare them:"
   ]
  },
  {
   "cell_type": "code",
   "execution_count": null,
   "metadata": {
    "collapsed": true
   },
   "outputs": [],
   "source": [
    "second_ride = Ride()\n",
    "third_ride = Ride()\n",
    "print(first_ride)\n",
    "print(second_ride)\n",
    "print(third_ride)"
   ]
  },
  {
   "cell_type": "markdown",
   "metadata": {},
   "source": [
    "Three rides! Alright, let's look at these. They seem pretty much the same, except the funny numbers at the end. Those are the IDs which represent a place in memory where the computer stores these objects. Additionally, since the IDs are unique, this means that these are completely unique objects although they are all borne from the `Ride` class. We can clearly demonstrate this by comparing these objects below:"
   ]
  },
  {
   "cell_type": "code",
   "execution_count": null,
   "metadata": {
    "collapsed": true
   },
   "outputs": [],
   "source": [
    "print(first_ride == second_ride)\n",
    "print(first_ride == Ride())\n",
    "print(first_ride == first_ride)"
   ]
  },
  {
   "cell_type": "markdown",
   "metadata": {},
   "source": [
    "As we can see, `first_ride` is only equal to itself eventhough at this point these objects are identical with the exception of their IDs."
   ]
  },
  {
   "cell_type": "markdown",
   "metadata": {},
   "source": [
    "## Summary"
   ]
  },
  {
   "cell_type": "markdown",
   "metadata": {},
   "source": [
    "In this lesson we learned about what we use classes for and how to define them. They are the blueprints for all objects borne from that class and they allow us to create instances, which are objects produced from a class with unique IDs."
   ]
  }
 ],
 "metadata": {
  "kernelspec": {
   "display_name": "Python 3",
   "language": "python",
   "name": "python3"
  },
  "language_info": {
   "codemirror_mode": {
    "name": "ipython",
    "version": 3
   },
   "file_extension": ".py",
   "mimetype": "text/x-python",
   "name": "python",
   "nbconvert_exporter": "python",
   "pygments_lexer": "ipython3",
   "version": "3.6.1"
  }
 },
 "nbformat": 4,
 "nbformat_minor": 2
}
